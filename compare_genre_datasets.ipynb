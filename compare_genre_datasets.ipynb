{
 "cells": [
  {
   "cell_type": "markdown",
   "metadata": {},
   "source": [
    "# Investigating MSD genre mapping datasets\n",
    "Is there one better than the one I hacked together by connecting musicXconnect ids with spotify genre information?"
   ]
  },
  {
   "cell_type": "code",
   "execution_count": 4,
   "metadata": {
    "collapsed": true
   },
   "outputs": [],
   "source": [
    "import pandas as pd"
   ]
  },
  {
   "cell_type": "code",
   "execution_count": 2,
   "metadata": {
    "collapsed": false
   },
   "outputs": [
    {
     "name": "stdout",
     "output_type": "stream",
     "text": [
      "Number of songs in my genre mapping dataset: 27133\n"
     ]
    }
   ],
   "source": [
    "import pickle\n",
    "\n",
    "with open('train_track_info.pickle','r') as f:\n",
    "\ttrack_info = pickle.load(f)\n",
    "\n",
    "print \"Number of songs in my genre mapping dataset: \" + str(len(track_info))"
   ]
  },
  {
   "cell_type": "code",
   "execution_count": 46,
   "metadata": {
    "collapsed": false
   },
   "outputs": [
    {
     "name": "stdout",
     "output_type": "stream",
     "text": [
      "Number of songs in tagtraum dataset: 133676\n"
     ]
    }
   ],
   "source": [
    "tagtraum = pd.read_csv('msd_tagtraum_cd1.cls',sep='\\t',comment='#',names=['id','genre1','genre2'],na_values='',dtype=str)\n",
    "\n",
    "print \"Number of songs in tagtraum dataset: \" + str(len(tagtraum))"
   ]
  },
  {
   "cell_type": "code",
   "execution_count": 56,
   "metadata": {
    "collapsed": false
   },
   "outputs": [
    {
     "name": "stdout",
     "output_type": "stream",
     "text": [
      "Number of rap songs: 7363 Percentage rap: 5.51\n"
     ]
    }
   ],
   "source": [
    "num_rap = np.sum(tagtraum.genre1 == 'Rap') + np.sum(tagtraum.genre2 == 'Rap')\n",
    "print \"Number of rap songs: %d Percentage rap: %.2f\" % (num_rap, 100*float(num_rap)/len(tagtraum))"
   ]
  },
  {
   "cell_type": "code",
   "execution_count": 49,
   "metadata": {
    "collapsed": true
   },
   "outputs": [],
   "source": [
    "magd = pd.read_csv('msd_tagtraum_cd1.cls',sep='\\t',comment='#',names=['id','genre'],na_values='',dtype=str)"
   ]
  },
  {
   "cell_type": "code",
   "execution_count": 51,
   "metadata": {
    "collapsed": false
   },
   "outputs": [
    {
     "name": "stdout",
     "output_type": "stream",
     "text": [
      "Number of songs in magd dataset: 133676\n"
     ]
    }
   ],
   "source": [
    "print \"Number of songs in magd dataset: \" + str(len(magd))"
   ]
  },
  {
   "cell_type": "code",
   "execution_count": 54,
   "metadata": {
    "collapsed": false
   },
   "outputs": [
    {
     "name": "stdout",
     "output_type": "stream",
     "text": [
      "Number of rap songs: 6151 Percentage rap: 4.60\n"
     ]
    }
   ],
   "source": [
    "num_rap = np.sum(magd.genre == 'Rap')\n",
    "print \"Number of rap songs: %d Percentage rap: %.2f\" % (num_rap, 100*float(num_rap)/len(magd))"
   ]
  },
  {
   "cell_type": "code",
   "execution_count": null,
   "metadata": {
    "collapsed": true
   },
   "outputs": [],
   "source": []
  }
 ],
 "metadata": {
  "kernelspec": {
   "display_name": "Python 2",
   "language": "python",
   "name": "python2"
  },
  "language_info": {
   "codemirror_mode": {
    "name": "ipython",
    "version": 2
   },
   "file_extension": ".py",
   "mimetype": "text/x-python",
   "name": "python",
   "nbconvert_exporter": "python",
   "pygments_lexer": "ipython2",
   "version": "2.7.11"
  }
 },
 "nbformat": 4,
 "nbformat_minor": 0
}
